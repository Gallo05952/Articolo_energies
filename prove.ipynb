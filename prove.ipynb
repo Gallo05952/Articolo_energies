{
 "cells": [
  {
   "cell_type": "code",
   "execution_count": 1,
   "metadata": {},
   "outputs": [],
   "source": [
    "import win32com.client\n",
    "\n",
    "simulation_file = r\"C:\\Users\\galloni\\OneDrive - unibs.it\\UNI\\Articolo_energies\\Articolo_energies.hsc\"\n",
    "hysys_app = win32com.client.Dispatch(\"HYSYS.Application\")\n",
    "hysys_sim = hysys_app.SimulationCases.Open(simulation_file)\n",
    "HySolver = hysys_sim.Solver\n",
    "Stream = hysys_sim.Flowsheet.Streams\n",
    "Blocchi = hysys_sim.Flowsheet.Operations"
   ]
  },
  {
   "cell_type": "code",
   "execution_count": 2,
   "metadata": {},
   "outputs": [
    {
     "name": "stdout",
     "output_type": "stream",
     "text": [
      "['AddRef', 'Application', 'AttachedFeeds', 'AttachedLogicalOps', 'AttachedProducts', 'BtmLiquidProduct', 'BtmLiquidProductVar', 'BtmVapourFeed', 'BtmVapourFeedVar', 'CalcLevel', 'Classification', 'ClassificationName', 'ColumnFeeds', 'ColumnFlowsheet', 'CreateColumnTemplate', 'CreateUserVariable', 'EnterColumnEnvironment', 'EnterParentEnvironment', 'FeedConnections', 'Flowsheet', 'GetIDsOfNames', 'GetTypeInfo', 'GetTypeInfoCount', 'GetUserVariable', 'Invoke', 'IsIgnored', 'IsValid', 'LoadColumnTemplate', 'Moniker', 'OpenStorage', 'Parent', 'ProductConnections', 'QueryInterface', 'Release', 'SideStripProduct1', 'SideStripProduct1Var', 'SideStripProduct2', 'SideStripProduct2Var', 'SideStripProduct3', 'SideStripProduct3Var', 'SideStripProduct4', 'SideStripProduct4Var', 'SimulationCase', 'TaggedName', 'TopLiquidFeed', 'TopLiquidFeedVar', 'TopLiquidProduct', 'TopLiquidProductVar', 'TopVapourProduct', 'TopVapourProductVar', 'TopWaterProduct', 'TopWaterProductVar', 'TypeName', 'UniqueID', 'VisibleTypeName', '_ApplyTypes_', '_FlagAsMethod', '_LazyAddAttr_', '_NewEnum', '_Release_', '_UpdateWithITypeInfo_', '__AttrToID__', '__LazyMap__', '__bool__', '__call__', '__class__', '__delattr__', '__dict__', '__dir__', '__doc__', '__eq__', '__format__', '__ge__', '__getattr__', '__getattribute__', '__getitem__', '__getstate__', '__gt__', '__hash__', '__init__', '__init_subclass__', '__int__', '__le__', '__len__', '__lt__', '__module__', '__ne__', '__new__', '__reduce__', '__reduce_ex__', '__repr__', '__setattr__', '__setitem__', '__sizeof__', '__str__', '__subclasshook__', '__weakref__', '_builtMethods_', '_dir_ole_', '_enum_', '_find_dispatch_type_', '_get_good_object_', '_get_good_single_object_', '_lazydata_', '_make_method_', '_mapCachedItems_', '_oleobj_', '_olerepr_', '_print_details_', '_proc_', '_unicode_to_string_', '_username_', '_wrap_dispatch_', 'name']\n"
     ]
    }
   ],
   "source": [
    "col=Blocchi.Item(\"T-100\")\n",
    "print(dir(col))\n",
    "ColumnFlowsheet"
   ]
  },
  {
   "cell_type": "code",
   "execution_count": 3,
   "metadata": {},
   "outputs": [
    {
     "name": "stdout",
     "output_type": "stream",
     "text": [
      "['ActiveSpecifications', 'AdaptiveDampingPeriod', 'AddRef', 'Application', 'CfsConverged', 'ClearAllCompositionEstimates', 'ClearAllEstimates', 'ClearTrayCompositionEstimates', 'ColumnAlgorithm', 'ColumnStages', 'ComponentLiqVolLiquidFlows', 'ComponentLiqVolLiquidFlowsValue', 'ComponentLiqVolVapourFlows', 'ComponentLiqVolVapourFlowsValue', 'ComponentMassLiquidFlows', 'ComponentMassLiquidFlowsValue', 'ComponentMassVapourFlows', 'ComponentMassVapourFlowsValue', 'ComponentMolarLiquidFlows', 'ComponentMolarLiquidFlowsValue', 'ComponentMolarVapourFlows', 'ComponentMolarVapourFlowsValue', 'CompositionEstimate', 'CompositionEstimateValue', 'CreateUserVariable', 'CurrentIteration', 'DampingFactor', 'DegreesOfFreedom', 'DoNotUse', 'EfficiencyType', 'EnergyStreams', 'EquilibriumError', 'EquilibriumErrorTolerance', 'FeedColumnStages', 'FeedStreams', 'FlowEstimateBasis', 'Flowsheets', 'FluidPackage', 'GetIDsOfNames', 'GetTypeInfo', 'GetTypeInfoCount', 'GetUserVariable', 'HeatSpecError', 'HeatSpecErrorTolerance', 'HeavyDrawColumnStages', 'InnerLoopAlgorithm', 'Invoke', 'IsAdaptiveDamping', 'IsCheckingForAzeotropes', 'IsUsingSolutionForEstimates', 'IsValid', 'LiquidCompositionEstimates', 'LiquidCompositionEstimatesValue', 'LiquidDrawColumnStages', 'LiquidMassFractions', 'LiquidMassFractionsValue', 'LiquidMoleFractions', 'LiquidMoleFractionsValue', 'LiquidProducts', 'LiquidPumpArounds', 'LiquidVolumeFractions', 'LiquidVolumeFractionsValue', 'LockCompositionEstimates', 'MaterialStreams', 'MaximumIterations', 'MixedDrawColumnStages', 'Moniker', 'NetLiqVolLiquidFlows', 'NetLiqVolLiquidFlowsValue', 'NetLiqVolVapourFlows', 'NetLiqVolVapourFlowsValue', 'NetMassLiquidFlows', 'NetMassLiquidFlowsValue', 'NetMassVapourFlows', 'NetMassVapourFlowsValue', 'NetMolarLiquidFlows', 'NetMolarLiquidFlowsValue', 'NetMolarVapourFlows', 'NetMolarVapourFlowsValue', 'NonSeparationColumnStages', 'NormalizeCompositionEstimates', 'OpenStorage', 'Operations', 'PAHeatFlows', 'PAHeatFlowsValue', 'PAMolarFlows', 'PAMolarFlowsValue', 'PFDs', 'Parent', 'Pressures', 'PressuresValue', 'QueryInterface', 'RefluxRatio', 'Release', 'Reset', 'RestoreCompositionEstimates', 'Run', 'SRDuties', 'SRDutiesValue', 'SRMolarFlows', 'SRMolarFlowsValue', 'SSDuties', 'SSDutiesValue', 'SSMolarFlows', 'SSMolarFlowsValue', 'SeparationColumnStages', 'SideRectifiers', 'SideStrippers', 'SolvingStatus', 'Specifications', 'Streams', 'SupercriticalMethod', 'TaggedName', 'TemperatureEsts', 'TemperatureEstsValue', 'Temperatures', 'TemperaturesValue', 'TopDownNumbering', 'TraceLevel', 'TypeName', 'UnLockCompositionEstimates', 'UniqueID', 'UpdateCompositionEstimates', 'UpdateFromSolution', 'VapourCompositionEstimates', 'VapourCompositionEstimatesValue', 'VapourDrawColumnStages', 'VapourMassFractions', 'VapourMassFractionsValue', 'VapourMoleFractions', 'VapourMoleFractionsValue', 'VapourProducts', 'VapourPumpArounds', 'VapourVolumeFractions', 'VapourVolumeFractionsValue', 'VisibleTypeName', 'WaterProducts', '_ApplyTypes_', '_FlagAsMethod', '_LazyAddAttr_', '_NewEnum', '_Release_', '_UpdateWithITypeInfo_', '__AttrToID__', '__LazyMap__', '__bool__', '__call__', '__class__', '__delattr__', '__dict__', '__dir__', '__doc__', '__eq__', '__format__', '__ge__', '__getattr__', '__getattribute__', '__getitem__', '__getstate__', '__gt__', '__hash__', '__init__', '__init_subclass__', '__int__', '__le__', '__len__', '__lt__', '__module__', '__ne__', '__new__', '__reduce__', '__reduce_ex__', '__repr__', '__setattr__', '__setitem__', '__sizeof__', '__str__', '__subclasshook__', '__weakref__', '_builtMethods_', '_dir_ole_', '_enum_', '_find_dispatch_type_', '_get_good_object_', '_get_good_single_object_', '_lazydata_', '_make_method_', '_mapCachedItems_', '_oleobj_', '_olerepr_', '_print_details_', '_proc_', '_unicode_to_string_', '_username_', '_wrap_dispatch_', 'name']\n"
     ]
    }
   ],
   "source": [
    "print(dir(col.ColumnFlowsheet))"
   ]
  },
  {
   "cell_type": "code",
   "execution_count": 7,
   "metadata": {},
   "outputs": [
    {
     "name": "stdout",
     "output_type": "stream",
     "text": [
      "['Add', 'AddRef', 'Application', 'Count', 'GetIDsOfNames', 'GetTypeInfo', 'GetTypeInfoCount', 'Invoke', 'IsValid', 'Item', 'Names', 'Parent', 'QueryInterface', 'Release', 'Remove', 'RemoveAll', '_ApplyTypes_', '_FlagAsMethod', '_LazyAddAttr_', '_NewEnum', '_Release_', '_UpdateWithITypeInfo_', '__AttrToID__', '__LazyMap__', '__bool__', '__call__', '__class__', '__delattr__', '__dict__', '__dir__', '__doc__', '__eq__', '__format__', '__ge__', '__getattr__', '__getattribute__', '__getitem__', '__getstate__', '__gt__', '__hash__', '__init__', '__init_subclass__', '__int__', '__le__', '__len__', '__lt__', '__module__', '__ne__', '__new__', '__reduce__', '__reduce_ex__', '__repr__', '__setattr__', '__setitem__', '__sizeof__', '__str__', '__subclasshook__', '__weakref__', '_builtMethods_', '_dir_ole_', '_enum_', '_find_dispatch_type_', '_get_good_object_', '_get_good_single_object_', '_lazydata_', '_make_method_', '_mapCachedItems_', '_oleobj_', '_olerepr_', '_print_details_', '_proc_', '_unicode_to_string_', '_username_', '_wrap_dispatch_', 'index']\n"
     ]
    }
   ],
   "source": [
    "print(dir(col.ColumnFlowsheet.SeparationColumnStages))"
   ]
  },
  {
   "cell_type": "code",
   "execution_count": 11,
   "metadata": {},
   "outputs": [
    {
     "name": "stdout",
     "output_type": "stream",
     "text": [
      "['Add', 'AddRef', 'Application', 'Count', 'GetIDsOfNames', 'GetTypeInfo', 'GetTypeInfoCount', 'Invoke', 'IsValid', 'Item', 'Names', 'Parent', 'QueryInterface', 'Release', 'Remove', 'RemoveAll', '_ApplyTypes_', '_FlagAsMethod', '_LazyAddAttr_', '_NewEnum', '_Release_', '_UpdateWithITypeInfo_', '__AttrToID__', '__LazyMap__', '__bool__', '__call__', '__class__', '__delattr__', '__dict__', '__dir__', '__doc__', '__eq__', '__format__', '__ge__', '__getattr__', '__getattribute__', '__getitem__', '__getstate__', '__gt__', '__hash__', '__init__', '__init_subclass__', '__int__', '__le__', '__len__', '__lt__', '__module__', '__ne__', '__new__', '__reduce__', '__reduce_ex__', '__repr__', '__setattr__', '__setitem__', '__sizeof__', '__str__', '__subclasshook__', '__weakref__', '_builtMethods_', '_dir_ole_', '_enum_', '_find_dispatch_type_', '_get_good_object_', '_get_good_single_object_', '_lazydata_', '_make_method_', '_mapCachedItems_', '_oleobj_', '_olerepr_', '_print_details_', '_proc_', '_unicode_to_string_', '_username_', '_wrap_dispatch_', 'index']\n"
     ]
    }
   ],
   "source": [
    "col.ColumnFlowsheet.ColumnStages\n",
    "print(dir(col.ColumnFlowsheet.ColumnStages))\n"
   ]
  }
 ],
 "metadata": {
  "kernelspec": {
   "display_name": "Python 3",
   "language": "python",
   "name": "python3"
  },
  "language_info": {
   "codemirror_mode": {
    "name": "ipython",
    "version": 3
   },
   "file_extension": ".py",
   "mimetype": "text/x-python",
   "name": "python",
   "nbconvert_exporter": "python",
   "pygments_lexer": "ipython3",
   "version": "3.11.8"
  }
 },
 "nbformat": 4,
 "nbformat_minor": 2
}
