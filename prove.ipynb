{
 "cells": [
  {
   "cell_type": "code",
   "execution_count": 1,
   "metadata": {},
   "outputs": [],
   "source": [
    "import win32com.client\n",
    "\n",
    "simulation_file = r\"C:\\Users\\galloni\\OneDrive - unibs.it\\UNI\\Articolo_energies\\Articolo_energies.hsc\"\n",
    "hysys_app = win32com.client.Dispatch(\"HYSYS.Application\")\n",
    "hysys_sim = hysys_app.SimulationCases.Open(simulation_file)\n",
    "HySolver = hysys_sim.Solver\n",
    "Stream = hysys_sim.Flowsheet.Streams\n",
    "Blocchi = hysys_sim.Flowsheet.Operations"
   ]
  },
  {
   "cell_type": "code",
   "execution_count": 2,
   "metadata": {},
   "outputs": [
    {
     "name": "stdout",
     "output_type": "stream",
     "text": [
      "['AddRef', 'Application', 'AttachedFeeds', 'AttachedLogicalOps', 'AttachedProducts', 'BtmLiquidProduct', 'BtmLiquidProductVar', 'BtmVapourFeed', 'BtmVapourFeedVar', 'CalcLevel', 'Classification', 'ClassificationName', 'ColumnFeeds', 'ColumnFlowsheet', 'CreateColumnTemplate', 'CreateUserVariable', 'EnterColumnEnvironment', 'EnterParentEnvironment', 'FeedConnections', 'Flowsheet', 'GetIDsOfNames', 'GetTypeInfo', 'GetTypeInfoCount', 'GetUserVariable', 'Invoke', 'IsIgnored', 'IsValid', 'LoadColumnTemplate', 'Moniker', 'OpenStorage', 'Parent', 'ProductConnections', 'QueryInterface', 'Release', 'SideStripProduct1', 'SideStripProduct1Var', 'SideStripProduct2', 'SideStripProduct2Var', 'SideStripProduct3', 'SideStripProduct3Var', 'SideStripProduct4', 'SideStripProduct4Var', 'SimulationCase', 'TaggedName', 'TopLiquidFeed', 'TopLiquidFeedVar', 'TopLiquidProduct', 'TopLiquidProductVar', 'TopVapourProduct', 'TopVapourProductVar', 'TopWaterProduct', 'TopWaterProductVar', 'TypeName', 'UniqueID', 'VisibleTypeName', '_ApplyTypes_', '_FlagAsMethod', '_LazyAddAttr_', '_NewEnum', '_Release_', '_UpdateWithITypeInfo_', '__AttrToID__', '__LazyMap__', '__bool__', '__call__', '__class__', '__delattr__', '__dict__', '__dir__', '__doc__', '__eq__', '__format__', '__ge__', '__getattr__', '__getattribute__', '__getitem__', '__getstate__', '__gt__', '__hash__', '__init__', '__init_subclass__', '__int__', '__le__', '__len__', '__lt__', '__module__', '__ne__', '__new__', '__reduce__', '__reduce_ex__', '__repr__', '__setattr__', '__setitem__', '__sizeof__', '__str__', '__subclasshook__', '__weakref__', '_builtMethods_', '_dir_ole_', '_enum_', '_find_dispatch_type_', '_get_good_object_', '_get_good_single_object_', '_lazydata_', '_make_method_', '_mapCachedItems_', '_oleobj_', '_olerepr_', '_print_details_', '_proc_', '_unicode_to_string_', '_username_', '_wrap_dispatch_', 'name']\n"
     ]
    }
   ],
   "source": [
    "col=Blocchi.Item(\"T-100\")\n",
    "print(dir(col))\n"
   ]
  },
  {
   "cell_type": "code",
   "execution_count": 6,
   "metadata": {},
   "outputs": [
    {
     "data": {
      "text/plain": [
       "'10__Main Tower'"
      ]
     },
     "execution_count": 6,
     "metadata": {},
     "output_type": "execute_result"
    }
   ],
   "source": [
    "output=str(col.ColumnFlowsheet.Operations.Item(\"Main Tower\").FeedStages.Item(0))\n",
    "output"
   ]
  },
  {
   "cell_type": "code",
   "execution_count": 9,
   "metadata": {},
   "outputs": [],
   "source": [
    "# Get the \"Main Tower\" operation\n",
    "main_tower = col.ColumnFlowsheet.Operations.Item(\"Main Tower\")\n",
    "\n",
    "# Get the first feed stage\n",
    "feed_stage = main_tower.FeedStages.Item(0)\n",
    "d=\"15__Main Tower\"\n",
    "\n",
    "# Try to set the name or ID of the feed stage\n",
    "try:\n",
    "    feed_stage.Name = d\n",
    "except AttributeError:\n",
    "    try:\n",
    "        feed_stage.ID = d\n",
    "    except AttributeError:\n",
    "        print(\"Could not set the name or ID of the feed stage.\")"
   ]
  },
  {
   "cell_type": "code",
   "execution_count": 10,
   "metadata": {},
   "outputs": [
    {
     "data": {
      "text/plain": [
       "'15__Main Tower'"
      ]
     },
     "execution_count": 10,
     "metadata": {},
     "output_type": "execute_result"
    }
   ],
   "source": [
    "output=str(col.ColumnFlowsheet.Operations.Item(\"Main Tower\").FeedStages.Item(0))\n",
    "output"
   ]
  },
  {
   "cell_type": "markdown",
   "metadata": {},
   "source": [
    "CalcLevel\n",
    "Classification\n",
    "ColumnFlowsheet\n",
    "Flowsheet\n",
    "Invoke"
   ]
  },
  {
   "cell_type": "code",
   "execution_count": 8,
   "metadata": {},
   "outputs": [
    {
     "name": "stdout",
     "output_type": "stream",
     "text": [
      "['__abs__', '__add__', '__and__', '__bool__', '__ceil__', '__class__', '__delattr__', '__dir__', '__divmod__', '__doc__', '__eq__', '__float__', '__floor__', '__floordiv__', '__format__', '__ge__', '__getattribute__', '__getnewargs__', '__getstate__', '__gt__', '__hash__', '__index__', '__init__', '__init_subclass__', '__int__', '__invert__', '__le__', '__lshift__', '__lt__', '__mod__', '__mul__', '__ne__', '__neg__', '__new__', '__or__', '__pos__', '__pow__', '__radd__', '__rand__', '__rdivmod__', '__reduce__', '__reduce_ex__', '__repr__', '__rfloordiv__', '__rlshift__', '__rmod__', '__rmul__', '__ror__', '__round__', '__rpow__', '__rrshift__', '__rshift__', '__rsub__', '__rtruediv__', '__rxor__', '__setattr__', '__sizeof__', '__str__', '__sub__', '__subclasshook__', '__truediv__', '__trunc__', '__xor__', 'as_integer_ratio', 'bit_count', 'bit_length', 'conjugate', 'denominator', 'from_bytes', 'imag', 'numerator', 'real', 'to_bytes']\n",
      "2500\n"
     ]
    }
   ],
   "source": [
    "print(dir(col.CalcLevel))\n",
    "print(col.CalcLevel)"
   ]
  },
  {
   "cell_type": "code",
   "execution_count": 10,
   "metadata": {},
   "outputs": [
    {
     "name": "stdout",
     "output_type": "stream",
     "text": [
      "['__abs__', '__add__', '__and__', '__bool__', '__ceil__', '__class__', '__delattr__', '__dir__', '__divmod__', '__doc__', '__eq__', '__float__', '__floor__', '__floordiv__', '__format__', '__ge__', '__getattribute__', '__getnewargs__', '__getstate__', '__gt__', '__hash__', '__index__', '__init__', '__init_subclass__', '__int__', '__invert__', '__le__', '__lshift__', '__lt__', '__mod__', '__mul__', '__ne__', '__neg__', '__new__', '__or__', '__pos__', '__pow__', '__radd__', '__rand__', '__rdivmod__', '__reduce__', '__reduce_ex__', '__repr__', '__rfloordiv__', '__rlshift__', '__rmod__', '__rmul__', '__ror__', '__round__', '__rpow__', '__rrshift__', '__rshift__', '__rsub__', '__rtruediv__', '__rxor__', '__setattr__', '__sizeof__', '__str__', '__sub__', '__subclasshook__', '__truediv__', '__trunc__', '__xor__', 'as_integer_ratio', 'bit_count', 'bit_length', 'conjugate', 'denominator', 'from_bytes', 'imag', 'numerator', 'real', 'to_bytes']\n",
      "9\n"
     ]
    }
   ],
   "source": [
    "print(dir(col.Classification))\n",
    "print(col.Classification)"
   ]
  },
  {
   "cell_type": "code",
   "execution_count": 13,
   "metadata": {},
   "outputs": [
    {
     "name": "stdout",
     "output_type": "stream",
     "text": [
      "['AddRef', 'Application', 'CreateUserVariable', 'EnergyStreams', 'Flowsheets', 'FluidPackage', 'GetIDsOfNames', 'GetTypeInfo', 'GetTypeInfoCount', 'GetUserVariable', 'Invoke', 'IsValid', 'MaterialStreams', 'Moniker', 'OpenStorage', 'Operations', 'PFDs', 'Parent', 'QueryInterface', 'Release', 'Streams', 'TaggedName', 'TypeName', 'UniqueID', 'VisibleTypeName', '_ApplyTypes_', '_FlagAsMethod', '_LazyAddAttr_', '_NewEnum', '_Release_', '_UpdateWithITypeInfo_', '__AttrToID__', '__LazyMap__', '__bool__', '__call__', '__class__', '__delattr__', '__dict__', '__dir__', '__doc__', '__eq__', '__format__', '__ge__', '__getattr__', '__getattribute__', '__getitem__', '__getstate__', '__gt__', '__hash__', '__init__', '__init_subclass__', '__int__', '__le__', '__len__', '__lt__', '__module__', '__ne__', '__new__', '__reduce__', '__reduce_ex__', '__repr__', '__setattr__', '__setitem__', '__sizeof__', '__str__', '__subclasshook__', '__weakref__', '_builtMethods_', '_dir_ole_', '_enum_', '_find_dispatch_type_', '_get_good_object_', '_get_good_single_object_', '_lazydata_', '_make_method_', '_mapCachedItems_', '_oleobj_', '_olerepr_', '_print_details_', '_proc_', '_unicode_to_string_', '_username_', '_wrap_dispatch_', 'name']\n",
      "('BIOGAS', 'CompressoreBG', 'Comp_BG', 'T-100', 'E-100')\n"
     ]
    }
   ],
   "source": [
    "print(dir(col.Flowsheet))\n",
    "print(col.Flowsheet.Operations.Names)"
   ]
  },
  {
   "cell_type": "code",
   "execution_count": 15,
   "metadata": {},
   "outputs": [
    {
     "name": "stdout",
     "output_type": "stream",
     "text": [
      "['__call__', '__class__', '__delattr__', '__dir__', '__doc__', '__eq__', '__format__', '__func__', '__ge__', '__getattribute__', '__getstate__', '__gt__', '__hash__', '__init__', '__init_subclass__', '__le__', '__lt__', '__ne__', '__new__', '__reduce__', '__reduce_ex__', '__repr__', '__self__', '__setattr__', '__sizeof__', '__str__', '__subclasshook__']\n",
      "<bound method Invoke of <COMObject Item>>\n"
     ]
    }
   ],
   "source": [
    "print(dir(col.Invoke))\n",
    "print(col.Invoke)"
   ]
  },
  {
   "cell_type": "code",
   "execution_count": 8,
   "metadata": {},
   "outputs": [
    {
     "name": "stdout",
     "output_type": "stream",
     "text": [
      "['Add', 'AddRef', 'Application', 'Count', 'GetIDsOfNames', 'GetTypeInfo', 'GetTypeInfoCount', 'Invoke', 'IsValid', 'Item', 'Names', 'Parent', 'QueryInterface', 'Release', 'Remove', 'RemoveAll', '_ApplyTypes_', '_FlagAsMethod', '_LazyAddAttr_', '_NewEnum', '_Release_', '_UpdateWithITypeInfo_', '__AttrToID__', '__LazyMap__', '__bool__', '__call__', '__class__', '__delattr__', '__dict__', '__dir__', '__doc__', '__eq__', '__format__', '__ge__', '__getattr__', '__getattribute__', '__getitem__', '__getstate__', '__gt__', '__hash__', '__init__', '__init_subclass__', '__int__', '__le__', '__len__', '__lt__', '__module__', '__ne__', '__new__', '__reduce__', '__reduce_ex__', '__repr__', '__setattr__', '__setitem__', '__sizeof__', '__str__', '__subclasshook__', '__weakref__', '_builtMethods_', '_dir_ole_', '_enum_', '_find_dispatch_type_', '_get_good_object_', '_get_good_single_object_', '_lazydata_', '_make_method_', '_mapCachedItems_', '_oleobj_', '_olerepr_', '_print_details_', '_proc_', '_unicode_to_string_', '_username_', '_wrap_dispatch_', 'index']\n"
     ]
    }
   ],
   "source": [
    "print(dir(col.ColumnFlowsheet.Operations))"
   ]
  },
  {
   "cell_type": "code",
   "execution_count": 9,
   "metadata": {},
   "outputs": [
    {
     "name": "stdout",
     "output_type": "stream",
     "text": [
      "('Main Tower', 'Condenser', 'Reboiler')\n"
     ]
    }
   ],
   "source": [
    "print((col.ColumnFlowsheet.Operations.Names))"
   ]
  },
  {
   "cell_type": "code",
   "execution_count": 10,
   "metadata": {},
   "outputs": [
    {
     "name": "stdout",
     "output_type": "stream",
     "text": [
      "['AddDrawStream', 'AddFeedStream', 'AddRef', 'Application', 'AttachedFeeds', 'AttachedLogicalOps', 'AttachedProducts', 'BottomStagePressure', 'BottomStagePressureValue', 'BottomStageTemperature', 'BottomStageTemperatureValue', 'CalcLevel', 'Classification', 'ClassificationName', 'ColumnDiameter', 'ColumnDiameterValue', 'CreateFluid', 'CreateUserVariable', 'DeleteAllDrawStreams', 'DeleteAllFeedStreams', 'DeleteDrawStream', 'DeleteFeedStream', 'EnthalpyLagFactor', 'EnthalpyLagFactorValue', 'FeedStages', 'Flowsheet', 'FluidPackage', 'GetIDsOfNames', 'GetTypeInfo', 'GetTypeInfoCount', 'GetUserVariable', 'Invoke', 'IsIgnored', 'IsValid', 'LiquidDrawStages', 'LiquidDrawStreams', 'LiquidDrawValves', 'LiquidFeedStream', 'LiquidFeedStreamVar', 'LiquidProductStream', 'LiquidProductStreamVar', 'MinimumLiquid', 'MinimumLiquidValue', 'Moniker', 'NumberOfStages', 'NumberOfTrays', 'OpenStorage', 'OverallEfficiency', 'OverallEfficiencyValue', 'Parent', 'Pressure', 'PressureValue', 'QueryInterface', 'Release', 'SeparationStages', 'SimulationCase', 'SpecifyDrawLocation', 'SpecifyFeedLocation', 'TaggedName', 'Temperature', 'TemperatureValue', 'TopStagePressure', 'TopStagePressureValue', 'TopStageTemperature', 'TopStageTemperatureValue', 'TopVapourValve', 'TraySectionFeeds', 'TraySectionType', 'TypeName', 'UniqueID', 'VapourDrawStages', 'VapourDrawStreams', 'VapourDrawValves', 'VapourFeedStream', 'VapourFeedStreamVar', 'VapourProductStream', 'VapourProductStreamVar', 'VapourVolume', 'VapourVolumeValue', 'VisibleTypeName', 'WaterDrawStages', 'WaterDrawStreams', 'WeirHeight', 'WeirHeightValue', 'WeirLength', 'WeirLengthValue', '_ApplyTypes_', '_FlagAsMethod', '_LazyAddAttr_', '_NewEnum', '_Release_', '_UpdateWithITypeInfo_', '__AttrToID__', '__LazyMap__', '__bool__', '__call__', '__class__', '__delattr__', '__dict__', '__dir__', '__doc__', '__eq__', '__format__', '__ge__', '__getattr__', '__getattribute__', '__getitem__', '__getstate__', '__gt__', '__hash__', '__init__', '__init_subclass__', '__int__', '__le__', '__len__', '__lt__', '__module__', '__ne__', '__new__', '__reduce__', '__reduce_ex__', '__repr__', '__setattr__', '__setitem__', '__sizeof__', '__str__', '__subclasshook__', '__weakref__', '_builtMethods_', '_dir_ole_', '_enum_', '_find_dispatch_type_', '_get_good_object_', '_get_good_single_object_', '_lazydata_', '_make_method_', '_mapCachedItems_', '_oleobj_', '_olerepr_', '_print_details_', '_proc_', '_unicode_to_string_', '_username_', '_wrap_dispatch_', 'name']\n"
     ]
    }
   ],
   "source": [
    "print(dir(col.ColumnFlowsheet.Operations.Item(\"Main Tower\")))"
   ]
  },
  {
   "cell_type": "markdown",
   "metadata": {},
   "source": [
    "NumberOfStages\n",
    "NumberOfTrays\n",
    "SeparationStages"
   ]
  },
  {
   "cell_type": "code",
   "execution_count": 18,
   "metadata": {},
   "outputs": [
    {
     "name": "stdout",
     "output_type": "stream",
     "text": [
      "['Add', 'AddRef', 'Application', 'Count', 'GetIDsOfNames', 'GetTypeInfo', 'GetTypeInfoCount', 'Invoke', 'IsValid', 'Item', 'Names', 'Parent', 'QueryInterface', 'Release', 'Remove', 'RemoveAll', '_ApplyTypes_', '_FlagAsMethod', '_LazyAddAttr_', '_NewEnum', '_Release_', '_UpdateWithITypeInfo_', '__AttrToID__', '__LazyMap__', '__bool__', '__call__', '__class__', '__delattr__', '__dict__', '__dir__', '__doc__', '__eq__', '__format__', '__ge__', '__getattr__', '__getattribute__', '__getitem__', '__getstate__', '__gt__', '__hash__', '__init__', '__init_subclass__', '__int__', '__le__', '__len__', '__lt__', '__module__', '__ne__', '__new__', '__reduce__', '__reduce_ex__', '__repr__', '__setattr__', '__setitem__', '__sizeof__', '__str__', '__subclasshook__', '__weakref__', '_builtMethods_', '_dir_ole_', '_enum_', '_find_dispatch_type_', '_get_good_object_', '_get_good_single_object_', '_lazydata_', '_make_method_', '_mapCachedItems_', '_oleobj_', '_olerepr_', '_print_details_', '_proc_', '_unicode_to_string_', '_username_', '_wrap_dispatch_', 'index']\n",
      "22\n"
     ]
    }
   ],
   "source": [
    "print(dir(col.ColumnFlowsheet.Operations.Item(\"Main Tower\").FeedStages))\n",
    "print((col.ColumnFlowsheet.Operations.Item(\"Main Tower\").NumberOfTrays))"
   ]
  },
  {
   "cell_type": "code",
   "execution_count": 27,
   "metadata": {},
   "outputs": [
    {
     "name": "stdout",
     "output_type": "stream",
     "text": [
      "10\n"
     ]
    }
   ],
   "source": [
    "output=str((col.ColumnFlowsheet.Operations.Item(\"Main Tower\").FeedStages.Item(0)))\n",
    "number = int(output.split(\"__\")[0])\n",
    "print(number)"
   ]
  },
  {
   "cell_type": "code",
   "execution_count": 14,
   "metadata": {},
   "outputs": [],
   "source": [
    "col.ColumnFlowsheet.Operations.Item(\"Main Tower\").NumberOfTrays=20"
   ]
  },
  {
   "cell_type": "markdown",
   "metadata": {},
   "source": [
    "###### PERCORSO PER IL CAMBIO NUMERO DI STADI\n",
    "col.ColumnFlowsheet.Operations.Item(\"Main Tower\").NumberOfTrays=20"
   ]
  },
  {
   "cell_type": "markdown",
   "metadata": {},
   "source": [
    "Moniker\n",
    "Operations\n",
    "Release"
   ]
  },
  {
   "cell_type": "code",
   "execution_count": 7,
   "metadata": {},
   "outputs": [
    {
     "name": "stdout",
     "output_type": "stream",
     "text": [
      "24\n",
      "24\n"
     ]
    }
   ],
   "source": [
    "print(col.ColumnFlowsheet.SeparationColumnStages.Count)\n",
    "col.ColumnFlowsheet.SeparationColumnStages.Remove(20)\n",
    "print(col.ColumnFlowsheet.SeparationColumnStages.Count)"
   ]
  },
  {
   "cell_type": "code",
   "execution_count": 7,
   "metadata": {},
   "outputs": [
    {
     "name": "stdout",
     "output_type": "stream",
     "text": [
      "['Add', 'AddRef', 'Application', 'Count', 'GetIDsOfNames', 'GetTypeInfo', 'GetTypeInfoCount', 'Invoke', 'IsValid', 'Item', 'Names', 'Parent', 'QueryInterface', 'Release', 'Remove', 'RemoveAll', '_ApplyTypes_', '_FlagAsMethod', '_LazyAddAttr_', '_NewEnum', '_Release_', '_UpdateWithITypeInfo_', '__AttrToID__', '__LazyMap__', '__bool__', '__call__', '__class__', '__delattr__', '__dict__', '__dir__', '__doc__', '__eq__', '__format__', '__ge__', '__getattr__', '__getattribute__', '__getitem__', '__getstate__', '__gt__', '__hash__', '__init__', '__init_subclass__', '__int__', '__le__', '__len__', '__lt__', '__module__', '__ne__', '__new__', '__reduce__', '__reduce_ex__', '__repr__', '__setattr__', '__setitem__', '__sizeof__', '__str__', '__subclasshook__', '__weakref__', '_builtMethods_', '_dir_ole_', '_enum_', '_find_dispatch_type_', '_get_good_object_', '_get_good_single_object_', '_lazydata_', '_make_method_', '_mapCachedItems_', '_oleobj_', '_olerepr_', '_print_details_', '_proc_', '_unicode_to_string_', '_username_', '_wrap_dispatch_', 'index']\n"
     ]
    }
   ],
   "source": [
    "print(dir(col.ColumnFlowsheet.SeparationColumnStages))"
   ]
  },
  {
   "cell_type": "code",
   "execution_count": 17,
   "metadata": {},
   "outputs": [
    {
     "name": "stdout",
     "output_type": "stream",
     "text": [
      "['Add', 'AddRef', 'Application', 'Count', 'GetIDsOfNames', 'GetTypeInfo', 'GetTypeInfoCount', 'Invoke', 'IsValid', 'Item', 'Names', 'Parent', 'QueryInterface', 'Release', 'Remove', 'RemoveAll', '_ApplyTypes_', '_FlagAsMethod', '_LazyAddAttr_', '_NewEnum', '_Release_', '_UpdateWithITypeInfo_', '__AttrToID__', '__LazyMap__', '__bool__', '__call__', '__class__', '__delattr__', '__dict__', '__dir__', '__doc__', '__eq__', '__format__', '__ge__', '__getattr__', '__getattribute__', '__getitem__', '__getstate__', '__gt__', '__hash__', '__init__', '__init_subclass__', '__int__', '__le__', '__len__', '__lt__', '__module__', '__ne__', '__new__', '__reduce__', '__reduce_ex__', '__repr__', '__setattr__', '__setitem__', '__sizeof__', '__str__', '__subclasshook__', '__weakref__', '_builtMethods_', '_dir_ole_', '_enum_', '_find_dispatch_type_', '_get_good_object_', '_get_good_single_object_', '_lazydata_', '_make_method_', '_mapCachedItems_', '_oleobj_', '_olerepr_', '_print_details_', '_proc_', '_unicode_to_string_', '_username_', '_wrap_dispatch_', 'index']\n",
      "24\n"
     ]
    }
   ],
   "source": [
    "col.ColumnFlowsheet.ColumnStages\n",
    "print(dir(col.ColumnFlowsheet.ColumnStages))\n",
    "print(col.ColumnFlowsheet.ColumnStages.Count)\n"
   ]
  },
  {
   "cell_type": "code",
   "execution_count": 6,
   "metadata": {},
   "outputs": [
    {
     "name": "stdout",
     "output_type": "stream",
     "text": [
      "24\n",
      "24\n"
     ]
    }
   ],
   "source": [
    "print(col.ColumnFlowsheet.ColumnStages.Count)\n",
    "col.ColumnFlowsheet.ColumnStages.Remove(0)\n",
    "print(col.ColumnFlowsheet.ColumnStages.Count)"
   ]
  },
  {
   "cell_type": "code",
   "execution_count": 34,
   "metadata": {},
   "outputs": [],
   "source": [
    "desired_count = 20  # Change this to your desired number of stages\n",
    "\n",
    "while col.ColumnFlowsheet.ColumnStages.Count > desired_count:\n",
    "    index_to_remove = col.ColumnFlowsheet.ColumnStages.Count - 1\n",
    "    col.ColumnFlowsheet.ColumnStages.Remove(index_to_remove)\n",
    "\n",
    "print(col.ColumnFlowsheet.ColumnStages.Count)"
   ]
  },
  {
   "cell_type": "code",
   "execution_count": 23,
   "metadata": {},
   "outputs": [
    {
     "name": "stdout",
     "output_type": "stream",
     "text": [
      "['AddRef', 'Application', 'CreateUserVariable', 'GetIDsOfNames', 'GetTypeInfo', 'GetTypeInfoCount', 'GetUserVariable', 'Invoke', 'IsValid', 'Moniker', 'NetLiqVolLiquidFlow', 'NetLiqVolLiquidFlowValue', 'NetLiqVolVapourFlow', 'NetLiqVolVapourFlowValue', 'NetMassLiquidFlow', 'NetMassLiquidFlowValue', 'NetMassVapourFlow', 'NetMassVapourFlowValue', 'NetMolarLiquidFlow', 'NetMolarLiquidFlowValue', 'NetMolarVapourFlow', 'NetMolarVapourFlowValue', 'OpenStorage', 'Parent', 'QueryInterface', 'Release', 'SeparationStage', 'StageNumber', 'StageNumberValue', 'TaggedName', 'TotalLiqVolLiquidFlow', 'TotalLiqVolLiquidFlowValue', 'TotalLiqVolVapourFlow', 'TotalLiqVolVapourFlowValue', 'TotalMassLiquidFlow', 'TotalMassLiquidFlowValue', 'TotalMassVapourFlow', 'TotalMassVapourFlowValue', 'TotalMolarLiquidFlow', 'TotalMolarLiquidFlowValue', 'TotalMolarVapourFlow', 'TotalMolarVapourFlowValue', 'TypeName', 'UniqueID', 'VisibleTypeName', 'WaterDrawStreams', '_ApplyTypes_', '_FlagAsMethod', '_LazyAddAttr_', '_NewEnum', '_Release_', '_UpdateWithITypeInfo_', '__AttrToID__', '__LazyMap__', '__bool__', '__call__', '__class__', '__delattr__', '__dict__', '__dir__', '__doc__', '__eq__', '__format__', '__ge__', '__getattr__', '__getattribute__', '__getitem__', '__getstate__', '__gt__', '__hash__', '__init__', '__init_subclass__', '__int__', '__le__', '__len__', '__lt__', '__module__', '__ne__', '__new__', '__reduce__', '__reduce_ex__', '__repr__', '__setattr__', '__setitem__', '__sizeof__', '__str__', '__subclasshook__', '__weakref__', '_builtMethods_', '_dir_ole_', '_enum_', '_find_dispatch_type_', '_get_good_object_', '_get_good_single_object_', '_lazydata_', '_make_method_', '_mapCachedItems_', '_oleobj_', '_olerepr_', '_print_details_', '_proc_', '_unicode_to_string_', '_username_', '_wrap_dispatch_', 'name']\n"
     ]
    }
   ],
   "source": [
    "print(dir(col.ColumnFlowsheet.ColumnStages.Item(22)))"
   ]
  }
 ],
 "metadata": {
  "kernelspec": {
   "display_name": "Python 3",
   "language": "python",
   "name": "python3"
  },
  "language_info": {
   "codemirror_mode": {
    "name": "ipython",
    "version": 3
   },
   "file_extension": ".py",
   "mimetype": "text/x-python",
   "name": "python",
   "nbconvert_exporter": "python",
   "pygments_lexer": "ipython3",
   "version": "3.11.8"
  }
 },
 "nbformat": 4,
 "nbformat_minor": 2
}
